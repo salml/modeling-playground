{
 "cells": [
  {
   "cell_type": "code",
   "execution_count": 9,
   "metadata": {},
   "outputs": [],
   "source": [
    "import pandas as pd\n",
    "from bktree import BKTree, hamming_distance\n",
    "import distance\n",
    "from itertools import combinations\n",
    "from tqdm import tqdm_notebook"
   ]
  },
  {
   "cell_type": "code",
   "execution_count": 2,
   "metadata": {},
   "outputs": [],
   "source": [
    "df = pd.read_csv('emails.csv')"
   ]
  },
  {
   "cell_type": "code",
   "execution_count": 33,
   "metadata": {},
   "outputs": [
    {
     "name": "stdout",
     "output_type": "stream",
     "text": [
      "CPU times: user 1min 57s, sys: 93.6 ms, total: 1min 57s\n",
      "Wall time: 1min 57s\n"
     ]
    }
   ],
   "source": [
    "%%time\n",
    "bkt = BKTree(distance.levenshtein, df.email.to_list())"
   ]
  },
  {
   "cell_type": "code",
   "execution_count": 34,
   "metadata": {},
   "outputs": [
    {
     "data": {
      "text/html": [
       "<div>\n",
       "<style scoped>\n",
       "    .dataframe tbody tr th:only-of-type {\n",
       "        vertical-align: middle;\n",
       "    }\n",
       "\n",
       "    .dataframe tbody tr th {\n",
       "        vertical-align: top;\n",
       "    }\n",
       "\n",
       "    .dataframe thead th {\n",
       "        text-align: right;\n",
       "    }\n",
       "</style>\n",
       "<table border=\"1\" class=\"dataframe\">\n",
       "  <thead>\n",
       "    <tr style=\"text-align: right;\">\n",
       "      <th></th>\n",
       "      <th>email</th>\n",
       "    </tr>\n",
       "  </thead>\n",
       "  <tbody>\n",
       "    <tr>\n",
       "      <th>0</th>\n",
       "      <td>walkershelly@gmail.com</td>\n",
       "    </tr>\n",
       "    <tr>\n",
       "      <th>1</th>\n",
       "      <td>lori49@serrano.com</td>\n",
       "    </tr>\n",
       "    <tr>\n",
       "      <th>2</th>\n",
       "      <td>ericaoliver@yahoo.com</td>\n",
       "    </tr>\n",
       "    <tr>\n",
       "      <th>3</th>\n",
       "      <td>acostavictoria@williams-harrison.org</td>\n",
       "    </tr>\n",
       "    <tr>\n",
       "      <th>4</th>\n",
       "      <td>xmartinez@yahoo.com</td>\n",
       "    </tr>\n",
       "  </tbody>\n",
       "</table>\n",
       "</div>"
      ],
      "text/plain": [
       "                                  email\n",
       "0                walkershelly@gmail.com\n",
       "1                    lori49@serrano.com\n",
       "2                 ericaoliver@yahoo.com\n",
       "3  acostavictoria@williams-harrison.org\n",
       "4                   xmartinez@yahoo.com"
      ]
     },
     "execution_count": 34,
     "metadata": {},
     "output_type": "execute_result"
    }
   ],
   "source": [
    "df.head()"
   ]
  },
  {
   "cell_type": "code",
   "execution_count": 3,
   "metadata": {},
   "outputs": [],
   "source": [
    "df = df.join(df.email.str.split('@').apply(lambda x: pd.Series({'username': x[0], 'domain': x[1]})))"
   ]
  },
  {
   "cell_type": "code",
   "execution_count": 10,
   "metadata": {},
   "outputs": [
    {
     "name": "stdout",
     "output_type": "stream",
     "text": [
      "CPU times: user 15.8 s, sys: 71.9 ms, total: 15.9 s\n",
      "Wall time: 15.9 s\n"
     ]
    }
   ],
   "source": [
    "%%time\n",
    "bkt = BKTree(distance.levenshtein, df.username.sample(50000).to_list())"
   ]
  },
  {
   "cell_type": "code",
   "execution_count": 12,
   "metadata": {},
   "outputs": [
    {
     "data": {
      "application/vnd.jupyter.widget-view+json": {
       "model_id": "f1946e1a7e214fdcaf45497dc668d9ab",
       "version_major": 2,
       "version_minor": 0
      },
      "text/plain": [
       "HBox(children=(IntProgress(value=0), HTML(value='')))"
      ]
     },
     "metadata": {},
     "output_type": "display_data"
    },
    {
     "name": "stdout",
     "output_type": "stream",
     "text": [
      "eschultz\n",
      "[(0, 'eschultz'), (1, 'oschultz'), (1, 'aschultz'), (1, 'rschultz'), (1, 'wschultz'), (1, 'bschultz'), (1, 'lschultz'), (1, 'sschultz'), (1, 'vschultz'), (1, 'uschultz'), (1, 'pschultz'), (1, 'dschultz')]\n",
      "kenneth92\n",
      "[(0, 'kenneth92'), (0, 'kenneth92'), (1, 'kenneth97'), (1, 'kenneth93'), (1, 'kenneth95'), (1, 'kenneth97'), (1, 'kenneth93'), (1, 'kenneth52'), (1, 'kenneth96'), (1, 'kenneth32'), (1, 'kenneth98'), (1, 'kenneth32'), (1, 'kenneth90'), (2, 'kenneth34'), (2, 'kenneth38'), (2, 'kenneth28'), (2, 'kenneth81'), (2, 'kenneth46'), (2, 'kenneth30'), (2, 'kenneth57'), (2, 'kenneth16'), (2, 'kenneth20'), (2, 'kenneth54'), (2, 'kenneth80'), (2, 'kenneth81'), (2, 'kenneth49'), (2, 'kenneth30'), (2, 'kenneth39'), (2, 'kenneth53'), (2, 'kenneth27'), (2, 'kenneth19'), (2, 'kenneth55'), (2, 'kenneth16'), (2, 'kenneth18'), (2, 'kenneth29'), (2, 'kenneth24'), (2, 'kenneth40'), (2, 'kenneth53'), (2, 'kenneth43'), (2, 'kenneth77'), (2, 'kenneth76'), (2, 'kenneth10'), (2, 'kenneth51'), (2, 'kenneth09'), (2, 'kenneth55'), (2, 'kenneth68'), (2, 'kenneth04'), (2, 'kenneth44'), (2, 'kenneth73'), (2, 'kenneth56'), (2, 'kenneth76'), (2, 'kenneth65'), (2, 'kenneth51'), (2, 'kenneth70'), (2, 'kenneth68'), (2, 'kenneth60')]\n",
      "smithdavid\n",
      "[(0, 'smithdavid'), (0, 'smithdavid'), (0, 'smithdavid'), (0, 'smithdavid'), (0, 'smithdavid'), (0, 'smithdavid')]\n",
      "james88\n",
      "[(0, 'james88'), (0, 'james88'), (0, 'james88'), (1, 'james08'), (1, 'james08'), (1, 'james82'), (1, 'james81'), (1, 'james08'), (1, 'james84'), (1, 'james81'), (1, 'james68'), (1, 'james86'), (1, 'james80'), (1, 'james38'), (1, 'james84'), (1, 'james68'), (1, 'james18'), (1, 'james85'), (1, 'james80'), (1, 'james87'), (1, 'james38'), (1, 'james84'), (1, 'james58'), (1, 'james68'), (1, 'james78'), (1, 'james85'), (1, 'james80'), (1, 'james78'), (1, 'james85'), (1, 'james80'), (1, 'james78'), (2, 'james96'), (2, 'james72'), (2, 'james04'), (2, 'james61'), (2, 'james97'), (2, 'james96'), (2, 'jamie88'), (2, 'james01'), (2, 'james32'), (2, 'james72'), (2, 'james04'), (2, 'james09'), (2, 'james54'), (2, 'james11'), (2, 'james61'), (2, 'james95'), (2, 'james16'), (2, 'jade88'), (2, 'james06'), (2, 'james52'), (2, 'james42'), (2, 'james92'), (2, 'james09'), (2, 'james37'), (2, 'james44'), (2, 'james21'), (2, 'james60'), (2, 'james11'), (2, 'james61'), (2, 'james99'), (2, 'james46'), (2, 'james00'), (2, 'james06'), (2, 'james42'), (2, 'james62'), (2, 'james92'), (2, 'james49'), (2, 'james33'), (2, 'james37'), (2, 'james14'), (2, 'james59'), (2, 'james21'), (2, 'james65'), (2, 'james60'), (2, 'james11'), (2, 'james99'), (2, 'james93'), (2, 'james36'), (2, 'james46'), (2, 'james05'), (2, 'james42'), (2, 'james45'), (2, 'james77'), (2, 'james33'), (2, 'james30'), (2, 'james37'), (2, 'james50'), (2, 'james59'), (2, 'james51'), (2, 'james65'), (2, 'james99'), (2, 'james90'), (2, 'james46'), (2, 'james03'), (2, 'james05'), (2, 'james23'), (2, 'james19'), (2, 'james40'), (2, 'james45'), (2, 'james47'), (2, 'james77'), (2, 'james33'), (2, 'james30'), (2, 'james37'), (2, 'james34'), (2, 'james57'), (2, 'james50'), (2, 'james59'), (2, 'james41'), (2, 'james67'), (2, 'james99'), (2, 'james66'), (2, 'james03'), (2, 'james07'), (2, 'james05'), (2, 'james20'), (2, 'james15'), (2, 'james23'), (2, 'james79'), (2, 'james19'), (2, 'james40'), (2, 'james47'), (2, 'james77'), (2, 'james33'), (2, 'james30'), (2, 'james35'), (2, 'james34'), (2, 'james24'), (2, 'james57'), (2, 'james50'), (2, 'james31'), (2, 'james41'), (2, 'james69'), (2, 'james67'), (2, 'james26'), (2, 'james66'), (2, 'james25'), (2, 'james73'), (2, 'james20'), (2, 'james15'), (2, 'james75'), (2, 'james70'), (2, 'james29'), (2, 'james79'), (2, 'james19'), (2, 'james40'), (2, 'james17'), (2, 'james47'), (2, 'james34'), (2, 'james53'), (2, 'james50'), (2, 'james64'), (2, 'james26'), (2, 'james25'), (2, 'james73'), (2, 'james13'), (2, 'james20'), (2, 'james15'), (2, 'james75'), (2, 'james29'), (2, 'james79'), (2, 'james19'), (2, 'james17'), (2, 'james27'), (2, 'james47'), (2, 'james34'), (2, 'james55'), (2, 'james25'), (2, 'james73'), (2, 'james13'), (2, 'james17'), (2, 'james73')]\n",
      "curtis42\n",
      "[(1, 'curtis02'), (1, 'curtis49'), (2, 'curtis05'), (2, 'curtis64'), (2, 'curtis06'), (2, 'curtis66'), (2, 'curtis21'), (2, 'curtis68'), (2, 'curtis66'), (2, 'curtis31'), (2, 'curtis30')]\n",
      "bthompson\n",
      "[(0, 'bthompson'), (0, 'bthompson'), (1, 'ethompson'), (1, 'wthompson'), (1, 'pthompson'), (1, 'ethompson'), (1, 'wthompson'), (1, 'ithompson'), (1, 'othompson'), (1, 'pthompson'), (1, 'ethompson'), (1, 'wthompson'), (1, 'qthompson'), (1, 'rthompson'), (1, 'othompson'), (1, 'pthompson'), (1, 'wthompson'), (1, 'athompson'), (1, 'qthompson'), (1, 'kthompson'), (1, 'rthompson'), (1, 'pthompson'), (1, 'wthompson'), (1, 'qthompson'), (1, 'nthompson'), (1, 'kthompson'), (1, 'rthompson'), (1, 'pthompson'), (1, 'wthompson'), (1, 'hthompson'), (1, 'nthompson'), (1, 'kthompson'), (1, 'pthompson'), (1, 'gthompson'), (1, 'hthompson'), (1, 'nthompson'), (1, 'ythompson'), (1, 'gthompson'), (1, 'hthompson'), (1, 'nthompson'), (1, 'zthompson'), (1, 'ythompson'), (1, 'gthompson'), (1, 'hthompson'), (1, 'lthompson'), (1, 'zthompson'), (1, 'ythompson'), (1, 'vthompson'), (1, 'lthompson'), (1, 'mthompson'), (1, 'vthompson'), (1, 'lthompson'), (1, 'jthompson'), (1, 'mthompson'), (1, 'vthompson'), (1, 'dthompson'), (1, 'jthompson'), (1, 'mthompson'), (1, 'vthompson'), (1, 'dthompson'), (1, 'sthompson'), (1, 'jthompson'), (1, 'mthompson'), (1, 'vthompson'), (1, 'dthompson'), (1, 'uthompson'), (1, 'sthompson'), (1, 'jthompson'), (1, 'dthompson'), (1, 'xthompson'), (1, 'uthompson'), (1, 'sthompson'), (1, 'dthompson'), (1, 'xthompson'), (1, 'dthompson')]\n",
      "lweber\n",
      "[(1, 'qweber'), (1, 'vweber'), (1, 'vweber'), (1, 'mweber'), (1, 'fweber'), (1, 'mweber'), (1, 'rweber'), (1, 'uweber'), (1, 'rweber'), (1, 'aweber'), (1, 'tweber'), (1, 'wweber'), (2, 'lweaver')]\n",
      "danielle58\n",
      "[(0, 'danielle58'), (0, 'danielle58'), (1, 'danielle18'), (1, 'danielle28'), (1, 'danielle28'), (1, 'danielle88'), (1, 'danielle55'), (2, 'danielle01'), (2, 'danielle17'), (2, 'danielle11'), (2, 'danielle01'), (2, 'danielle39'), (2, 'danielle10'), (2, 'danielle17'), (2, 'danielle11'), (2, 'danielle31'), (2, 'danielle03'), (2, 'danielle20'), (2, 'danielle49'), (2, 'danielle39'), (2, 'danielle67'), (2, 'danielle10'), (2, 'danielle95'), (2, 'danielle23'), (2, 'danielle13'), (2, 'danielle86'), (2, 'danielle95'), (2, 'danielle92'), (2, 'danielle70'), (2, 'danielle46'), (2, 'danielle96'), (2, 'danielle45'), (2, 'danielle40'), (2, 'daniel58'), (2, 'danielle66'), (2, 'danielle96'), (2, 'danielle90'), (2, 'daniel58'), (2, 'danielle96'), (2, 'danielle85'), (2, 'danielle90')]\n",
      "taylor33\n",
      "[(1, 'taylor36'), (1, 'taylor35'), (1, 'taylor73'), (1, 'taylor35'), (1, 'taylor30'), (1, 'taylor83'), (1, 'taylor53'), (1, 'taylor43'), (2, 'taylor56'), (2, 'taylor27'), (2, 'taylor86'), (2, 'taylor57'), (2, 'taylor86'), (2, 'taylor05'), (2, 'taylor78'), (2, 'taylor77'), (2, 'taylor28'), (2, 'taylor59'), (2, 'taylor01'), (2, 'taylor78'), (2, 'taylor87'), (2, 'tyler33'), (2, 'taylor64'), (2, 'taylor58'), (2, 'taylor45'), (2, 'taylor02'), (2, 'taylor40'), (2, 'taylor58'), (2, 'taylor95'), (2, 'taylor48'), (2, 'taylor88'), (2, 'taylor65')]\n",
      "kenneth98\n",
      "[(0, 'kenneth98'), (1, 'kenneth97'), (1, 'kenneth38'), (1, 'kenneth93'), (1, 'kenneth95'), (1, 'kenneth28'), (1, 'kenneth97'), (1, 'kenneth92'), (1, 'kenneth93'), (1, 'kenneth96'), (1, 'kenneth92'), (1, 'kenneth18'), (1, 'kenneth90'), (1, 'kenneth68'), (1, 'kenneth68'), (2, 'kenneth34'), (2, 'kenneth81'), (2, 'kenneth46'), (2, 'kenneth30'), (2, 'kenneth52'), (2, 'kenneth57'), (2, 'kenneth16'), (2, 'kenneth20'), (2, 'kenneth54'), (2, 'kenneth80'), (2, 'kenneth81'), (2, 'kenneth49'), (2, 'kenneth30'), (2, 'kenneth39'), (2, 'kenneth53'), (2, 'kenneth32'), (2, 'kenneth27'), (2, 'kenneth19'), (2, 'kenneth55'), (2, 'kenneth16'), (2, 'kenneth29'), (2, 'kenneth24'), (2, 'kenneth40'), (2, 'kenneth53'), (2, 'kenneth43'), (2, 'kenneth32'), (2, 'kenneth77'), (2, 'kenneth76'), (2, 'kenneth10'), (2, 'kenneth51'), (2, 'kenneth09'), (2, 'kenneth55'), (2, 'kenneth04'), (2, 'kenneth44'), (2, 'kenneth73'), (2, 'kenneth56'), (2, 'kenneth76'), (2, 'kenneth65'), (2, 'kenneth51'), (2, 'kenneth70'), (2, 'kenneth60')]\n",
      "amaldonado\n",
      "[(1, 'omaldonado'), (1, 'emaldonado'), (1, 'emaldonado'), (1, 'xmaldonado'), (1, 'dmaldonado'), (1, 'emaldonado'), (1, 'hmaldonado'), (1, 'hmaldonado'), (1, 'tmaldonado'), (1, 'gmaldonado'), (1, 'fmaldonado')]\n",
      "upark\n",
      "[(0, 'upark'), (1, 'epark'), (1, 'spark'), (1, 'spark'), (1, 'apark'), (1, 'xpark'), (1, 'npark'), (1, 'hpark'), (1, 'fpark'), (1, 'ypark'), (2, 'cparks'), (2, 'upage'), (2, 'hparks'), (2, 'vparks'), (2, 'upace'), (2, 'uparker'), (2, 'dparks'), (2, 'iparks'), (2, 'mparks'), (2, 'ustark'), (2, 'ukirk'), (2, 'uclark')]\n",
      "amayer\n",
      "[(0, 'amayer'), (1, 'zmayer'), (1, 'amoyer'), (1, 'jmayer'), (1, 'ameyer'), (1, 'ameyer'), (1, 'kmayer'), (1, 'ameyer'), (1, 'gmayer'), (1, 'kmayer'), (1, 'ameyer'), (2, 'qmeyer'), (2, 'amyers'), (2, 'adyer'), (2, 'dmeyer'), (2, 'amyers'), (2, 'dmeyer'), (2, 'ahayes'), (2, 'fmoyer'), (2, 'jmeyer'), (2, 'pmeyer'), (2, 'xmoyer'), (2, 'jmeyer'), (2, 'xmeyer'), (2, 'emoyer'), (2, 'abauer'), (2, 'zmeyer'), (2, 'xmeyer'), (2, 'ymoyer'), (2, 'emeyer'), (2, 'bmeyer'), (2, 'emeyer'), (2, 'kmeyer'), (2, 'bmeyer'), (2, 'mmeyer'), (2, 'tmeyer'), (2, 'hmeyer'), (2, 'vmeyer'), (2, 'hmeyer'), (2, 'fmeyer')]\n",
      "bsaunders\n",
      "[(0, 'bsaunders'), (1, 'csaunders'), (1, 'lsaunders'), (1, 'csaunders'), (1, 'qsaunders'), (1, 'tsaunders'), (1, 'osaunders'), (1, 'usaunders'), (1, 'usaunders'), (2, 'msanders'), (2, 'msanders'), (2, 'osanders'), (2, 'vsanders'), (2, 'ysanders'), (2, 'esanders'), (2, 'tsanders'), (2, 'esanders'), (2, 'gsanders'), (2, 'zsanders'), (2, 'xsanders'), (2, 'asanders'), (2, 'ssanders'), (2, 'psanders')]\n",
      "ryan43\n",
      "[(0, 'ryan43'), (0, 'ryan43'), (1, 'ryan42'), (1, 'ryan33'), (1, 'ryan33'), (1, 'ryan63'), (1, 'ryan13'), (1, 'ryan40'), (1, 'ryan13'), (1, 'bryan43'), (2, 'ryan95'), (2, 'ryan62'), (2, 'ryan71'), (2, 'ryan99'), (2, 'ryan11'), (2, 'ryan95'), (2, 'ryan82'), (2, 'ryan54'), (2, 'ryan71'), (2, 'ryan70'), (2, 'ryan94'), (2, 'ryan05'), (2, 'ryan99'), (2, 'ryan88'), (2, 'ryan01'), (2, 'ryan95'), (2, 'ryan82'), (2, 'ryan55'), (2, 'ryan74'), (2, 'ryan37'), (2, 'ryan57'), (2, 'ian43'), (2, 'ryan94'), (2, 'ryan65'), (2, 'ryan66'), (2, 'ryan80'), (2, 'ryan88'), (2, 'ryan19'), (2, 'ryan21'), (2, 'ryan01'), (2, 'ryan82'), (2, 'ryan32'), (2, 'ryan55'), (2, 'ryan56'), (2, 'ryan76'), (2, 'ryan74'), (2, 'ryan27'), (2, 'bryan46'), (2, 'ryan94'), (2, 'ryan65'), (2, 'ryan85'), (2, 'ryan36'), (2, 'ryan08'), (2, 'ryan84'), (2, 'ryan88'), (2, 'ryan10'), (2, 'ryan19'), (2, 'ryan12'), (2, 'ryan56'), (2, 'ryan50'), (2, 'sean43'), (2, 'ryan15'), (2, 'ryan00'), (2, 'ryan06'), (2, 'ryan38'), (2, 'ryan84'), (2, 'ryan86'), (2, 'ryan22'), (2, 'bryan13'), (2, 'ryan15'), (2, 'ryan29'), (2, 'ryan06'), (2, 'ryan68'), (2, 'ryan14'), (2, 'ryan15'), (2, 'bryan41'), (2, 'bryan83')]\n",
      "wayala\n",
      "[(0, 'wayala'), (1, 'dayala'), (1, 'bayala'), (1, 'tayala'), (1, 'aayala'), (1, 'uayala'), (1, 'tayala'), (1, 'zayala'), (1, 'nayala'), (2, 'gayalan')]\n",
      "erin79\n",
      "[(0, 'erin79'), (0, 'erin79'), (0, 'erin79'), (1, 'erin77'), (1, 'erin71'), (1, 'erin39'), (1, 'eric79'), (1, 'erin19'), (1, 'erin69'), (1, 'erin09'), (1, 'erin69'), (2, 'evan79'), (2, 'eric39'), (2, 'brian79'), (2, 'erin87'), (2, 'erin22'), (2, 'erin81'), (2, 'eric69'), (2, 'eric39'), (2, 'eric72'), (2, 'brian79'), (2, 'erin85'), (2, 'erin51'), (2, 'erin25'), (2, 'erin22'), (2, 'eric89'), (2, 'eric72'), (2, 'brian79'), (2, 'erin51'), (2, 'erin16'), (2, 'erin32'), (2, 'erin20'), (2, 'erin25'), (2, 'eric71'), (2, 'eric74'), (2, 'eric19'), (2, 'eric89'), (2, 'eric72'), (2, 'brian79'), (2, 'erin61'), (2, 'erin06'), (2, 'erin92'), (2, 'erin23'), (2, 'eric77'), (2, 'eric19'), (2, 'erin58'), (2, 'erin38'), (2, 'erin12'), (2, 'erin26'), (2, 'erin23'), (2, 'eric49'), (2, 'erin44'), (2, 'erin68'), (2, 'erin38'), (2, 'erin52'), (2, 'eric75'), (2, 'eric99'), (2, 'eric49'), (2, 'erin63'), (2, 'erin38'), (2, 'eric75'), (2, 'eric59'), (2, 'erin93'), (2, 'eric75'), (2, 'eric59'), (2, 'eric59')]\n",
      "louis27\n",
      "[(0, 'louis27'), (1, 'luis27'), (1, 'luis27'), (2, 'louis08'), (2, 'louis05'), (2, 'louis96'), (2, 'louis98'), (2, 'luis23'), (2, 'louis11'), (2, 'louis58'), (2, 'luis24')]\n",
      "molly89\n",
      "[(0, 'molly89'), (1, 'molly29'), (1, 'molly85'), (1, 'molly86'), (1, 'molly79'), (1, 'holly89'), (2, 'molly14'), (2, 'molly37'), (2, 'molly14'), (2, 'molly90'), (2, 'molly17'), (2, 'molly40'), (2, 'molly66'), (2, 'molly23'), (2, 'molly76'), (2, 'molly13'), (2, 'holly80'), (2, 'billy89')]\n",
      "andrewthompson\n",
      "[(0, 'andrewthompson'), (0, 'andrewthompson'), (1, 'andreathompson'), (1, 'andreathompson'), (1, 'andresthompson'), (1, 'andreathompson')]\n",
      "james20\n",
      "[(0, 'james20'), (0, 'james20'), (0, 'james20'), (1, 'james21'), (1, 'james60'), (1, 'james00'), (1, 'james21'), (1, 'james60'), (1, 'james30'), (1, 'james50'), (1, 'james90'), (1, 'james23'), (1, 'james80'), (1, 'james40'), (1, 'james30'), (1, 'james50'), (1, 'james23'), (1, 'james80'), (1, 'james40'), (1, 'james30'), (1, 'james24'), (1, 'james50'), (1, 'james26'), (1, 'james25'), (1, 'james70'), (1, 'james80'), (1, 'james29'), (1, 'james40'), (1, 'james50'), (1, 'james26'), (1, 'james25'), (1, 'james80'), (1, 'james29'), (1, 'james27'), (1, 'james25'), (2, 'jaime20'), (2, 'james96'), (2, 'james72'), (2, 'james04'), (2, 'james61'), (2, 'james97'), (2, 'james96'), (2, 'james01'), (2, 'james32'), (2, 'james72'), (2, 'james04'), (2, 'james09'), (2, 'james54'), (2, 'james11'), (2, 'james61'), (2, 'james95'), (2, 'james16'), (2, 'james06'), (2, 'james08'), (2, 'james52'), (2, 'james42'), (2, 'jamie20'), (2, 'james92'), (2, 'james09'), (2, 'james37'), (2, 'james44'), (2, 'james11'), (2, 'james61'), (2, 'james99'), (2, 'james46'), (2, 'james06'), (2, 'james08'), (2, 'james42'), (2, 'james62'), (2, 'james82'), (2, 'james92'), (2, 'janet20'), (2, 'james49'), (2, 'james33'), (2, 'james37'), (2, 'james14'), (2, 'james59'), (2, 'james81'), (2, 'james65'), (2, 'james11'), (2, 'james99'), (2, 'james93'), (2, 'james36'), (2, 'james46'), (2, 'james05'), (2, 'james08'), (2, 'james42'), (2, 'james88'), (2, 'james45'), (2, 'james77'), (2, 'james33'), (2, 'james37'), (2, 'james84'), (2, 'james59'), (2, 'james51'), (2, 'james81'), (2, 'james68'), (2, 'james65'), (2, 'james99'), (2, 'james86'), (2, 'james46'), (2, 'james03'), (2, 'james05'), (2, 'james88'), (2, 'james19'), (2, 'james45'), (2, 'james47'), (2, 'james77'), (2, 'james33'), (2, 'james38'), (2, 'james37'), (2, 'james34'), (2, 'james84'), (2, 'james57'), (2, 'james59'), (2, 'james41'), (2, 'james67'), (2, 'james68'), (2, 'james99'), (2, 'james66'), (2, 'james03'), (2, 'james07'), (2, 'james05'), (2, 'james15'), (2, 'james18'), (2, 'james85'), (2, 'james88'), (2, 'james79'), (2, 'james19'), (2, 'james87'), (2, 'james47'), (2, 'james77'), (2, 'james33'), (2, 'james38'), (2, 'james35'), (2, 'james34'), (2, 'james84'), (2, 'james58'), (2, 'james57'), (2, 'james31'), (2, 'james41'), (2, 'james69'), (2, 'james67'), (2, 'james68'), (2, 'james66'), (2, 'james73'), (2, 'james15'), (2, 'james75'), (2, 'james78'), (2, 'james85'), (2, 'james79'), (2, 'james19'), (2, 'james17'), (2, 'james47'), (2, 'james34'), (2, 'james53'), (2, 'james64'), (2, 'james73'), (2, 'james13'), (2, 'james15'), (2, 'james75'), (2, 'james78'), (2, 'james85'), (2, 'james79'), (2, 'james19'), (2, 'james17'), (2, 'james47'), (2, 'james34'), (2, 'james55'), (2, 'james73'), (2, 'james13'), (2, 'james78'), (2, 'james17'), (2, 'james73')]\n",
      "jade53\n",
      "[(0, 'jade53'), (1, 'jade43'), (2, 'jade88'), (2, 'jade12'), (2, 'jane51'), (2, 'jamie53'), (2, 'jamie53'), (2, 'james53')]\n",
      "robert22\n",
      "[(0, 'robert22'), (0, 'robert22'), (1, 'robert12'), (1, 'robert12'), (1, 'robert12'), (1, 'robert82'), (1, 'robert12'), (1, 'robert52'), (1, 'robert82'), (1, 'robert29'), (1, 'robert12'), (1, 'robert32'), (1, 'robert82'), (1, 'roberto22'), (1, 'robert29'), (1, 'robert02'), (1, 'robert32'), (1, 'robert62'), (1, 'robert28'), (1, 'robert24'), (1, 'robert72'), (1, 'robert02'), (1, 'robert32'), (1, 'robert62'), (1, 'robert23'), (1, 'robert28'), (1, 'robert24'), (1, 'robert42'), (1, 'robert62'), (1, 'robert23'), (1, 'robert25'), (1, 'robert26'), (1, 'robert20'), (1, 'robert28'), (1, 'robert27'), (1, 'robert42'), (1, 'robert92'), (1, 'robert23'), (1, 'robert26'), (1, 'robert27'), (1, 'robert42'), (2, 'robert61'), (2, 'robert01'), (2, 'robert61'), (2, 'robert89'), (2, 'robert66'), (2, 'robert11'), (2, 'robert61'), (2, 'robert47'), (2, 'robert89'), (2, 'robert85'), (2, 'robert14'), (2, 'robert65'), (2, 'robert51'), (2, 'robert11'), (2, 'robert61'), (2, 'robertho'), (2, 'robert94'), (2, 'robert07'), (2, 'robert47'), (2, 'robert89'), (2, 'robert88'), (2, 'robert99'), (2, 'robert10'), (2, 'robert14'), (2, 'robert63'), (2, 'robert65'), (2, 'robert71'), (2, 'robert51'), (2, 'robert58'), (2, 'robert74'), (2, 'robert94'), (2, 'robert07'), (2, 'robert40'), (2, 'robert37'), (2, 'robert47'), (2, 'robert86'), (2, 'robert99'), (2, 'robert18'), (2, 'robert69'), (2, 'robert65'), (2, 'robert71'), (2, 'robert31'), (2, 'robert00'), (2, 'robert08'), (2, 'robert58'), (2, 'robert93'), (2, 'robert34'), (2, 'robert74'), (2, 'robert94'), (2, 'robert07'), (2, 'robert45'), (2, 'robert40'), (2, 'robert97'), (2, 'robert37'), (2, 'robert83'), (2, 'robert09'), (2, 'robert18'), (2, 'robert17'), (2, 'robert69'), (2, 'robert71'), (2, 'robert91'), (2, 'robert76'), (2, 'robert00'), (2, 'robert70'), (2, 'robert56'), (2, 'robert08'), (2, 'robert58'), (2, 'robert95'), (2, 'robert93'), (2, 'robert34'), (2, 'robert07'), (2, 'robert43'), (2, 'robert45'), (2, 'robert40'), (2, 'robert57'), (2, 'robert84'), (2, 'robert79'), (2, 'robert09'), (2, 'robert19'), (2, 'robert67'), (2, 'robert71'), (2, 'robert75'), (2, 'robert76'), (2, 'robert00'), (2, 'robert70'), (2, 'robert03'), (2, 'robert30'), (2, 'robert50'), (2, 'robert56'), (2, 'robert38'), (2, 'robert08'), (2, 'robert95'), (2, 'robert96'), (2, 'robert44'), (2, 'robert43'), (2, 'robert45'), (2, 'robert77'), (2, 'robert09'), (2, 'robert68'), (2, 'robert67'), (2, 'robert71'), (2, 'robert35'), (2, 'robert75'), (2, 'robert76'), (2, 'robert70'), (2, 'robert05'), (2, 'robert38'), (2, 'robert78'), (2, 'robert08'), (2, 'robert98'), (2, 'robert48'), (2, 'robert44'), (2, 'robert45'), (2, 'robert68'), (2, 'robert60'), (2, 'robert36'), (2, 'robert75'), (2, 'robert05'), (2, 'robert38'), (2, 'robert78'), (2, 'robert08'), (2, 'robert08'), (2, 'robert08')]\n",
      "tjohnson\n",
      "[(0, 'tjohnson'), (0, 'tjohnson'), (0, 'tjohnson'), (0, 'tjohnson'), (0, 'tjohnson'), (0, 'tjohnson'), (1, 'ijohnson'), (1, 'gjohnson'), (1, 'ijohnson'), (1, 'vjohnson'), (1, 'djohnson'), (1, 'gjohnson'), (1, 'ijohnson'), (1, 'vjohnson'), (1, 'qjohnson'), (1, 'pjohnson'), (1, 'djohnson'), (1, 'gjohnson'), (1, 'ijohnson'), (1, 'vjohnson'), (1, 'qjohnson'), (1, 'ajohnson'), (1, 'pjohnson'), (1, 'djohnson'), (1, 'gjohnson'), (1, 'ijohnson'), (1, 'vjohnson'), (1, 'qjohnson'), (1, 'zjohnson'), (1, 'ajohnson'), (1, 'pjohnson'), (1, 'djohnson'), (1, 'gjohnson'), (1, 'ijohnson'), (1, 'vjohnson'), (1, 'qjohnson'), (1, 'yjohnson'), (1, 'zjohnson'), (1, 'ajohnson'), (1, 'pjohnson'), (1, 'djohnson'), (1, 'gjohnson'), (1, 'ijohnson'), (1, 'vjohnson'), (1, 'qjohnson'), (1, 'ejohnson'), (1, 'yjohnson'), (1, 'zjohnson'), (1, 'ajohnson'), (1, 'pjohnson'), (1, 'djohnson'), (1, 'gjohnson'), (1, 'ijohnson'), (1, 'vjohnson'), (1, 'qjohnson'), (1, 'cjohnson'), (1, 'ejohnson'), (1, 'yjohnson'), (1, 'zjohnson'), (1, 'ajohnson'), (1, 'pjohnson'), (1, 'djohnson'), (1, 'gjohnson'), (1, 'ijohnson'), (1, 'vjohnson'), (1, 'qjohnson'), (1, 'sjohnson'), (1, 'cjohnson'), (1, 'ejohnson'), (1, 'yjohnson'), (1, 'zjohnson'), (1, 'ajohnson'), (1, 'pjohnson'), (1, 'djohnson'), (1, 'gjohnson'), (1, 'ijohnson'), (1, 'vjohnson'), (1, 'qjohnson'), (1, 'ljohnson'), (1, 'sjohnson'), (1, 'cjohnson'), (1, 'ejohnson'), (1, 'yjohnson'), (1, 'zjohnson'), (1, 'ajohnson'), (1, 'pjohnson'), (1, 'gjohnson'), (1, 'ijohnson'), (1, 'vjohnson'), (1, 'qjohnson'), (1, 'bjohnson'), (1, 'ljohnson'), (1, 'sjohnson'), (1, 'cjohnson'), (1, 'ejohnson'), (1, 'yjohnson'), (1, 'zjohnson'), (1, 'ajohnson'), (1, 'pjohnson'), (1, 'gjohnson'), (1, 'ijohnson'), (1, 'vjohnson'), (1, 'qjohnson'), (1, 'mjohnson'), (1, 'bjohnson'), (1, 'ljohnson'), (1, 'sjohnson'), (1, 'cjohnson'), (1, 'ejohnson'), (1, 'yjohnson'), (1, 'zjohnson'), (1, 'ajohnson'), (1, 'pjohnson'), (1, 'gjohnson'), (1, 'qjohnson'), (1, 'rjohnson'), (1, 'mjohnson'), (1, 'bjohnson'), (1, 'ljohnson'), (1, 'sjohnson'), (1, 'cjohnson'), (1, 'yjohnson'), (1, 'zjohnson'), (1, 'pjohnson'), (1, 'qjohnson'), (1, 'rjohnson'), (1, 'njohnson'), (1, 'mjohnson'), (1, 'bjohnson'), (1, 'ljohnson'), (1, 'sjohnson'), (1, 'cjohnson'), (1, 'yjohnson'), (1, 'pjohnson'), (1, 'rjohnson'), (1, 'ujohnson'), (1, 'njohnson'), (1, 'mjohnson'), (1, 'bjohnson'), (1, 'ljohnson'), (1, 'sjohnson'), (1, 'cjohnson'), (1, 'yjohnson'), (1, 'pjohnson'), (1, 'rjohnson'), (1, 'fjohnson'), (1, 'ujohnson'), (1, 'njohnson'), (1, 'mjohnson'), (1, 'bjohnson'), (1, 'ljohnson'), (1, 'sjohnson'), (1, 'yjohnson'), (1, 'pjohnson'), (1, 'rjohnson'), (1, 'wjohnson'), (1, 'fjohnson'), (1, 'ujohnson'), (1, 'njohnson'), (1, 'mjohnson'), (1, 'bjohnson'), (1, 'yjohnson'), (1, 'rjohnson'), (1, 'xjohnson'), (1, 'wjohnson'), (1, 'fjohnson'), (1, 'ujohnson'), (1, 'njohnson'), (1, 'mjohnson'), (1, 'bjohnson'), (1, 'rjohnson'), (1, 'kjohnson'), (1, 'xjohnson'), (1, 'wjohnson'), (1, 'fjohnson'), (1, 'ujohnson'), (1, 'njohnson'), (1, 'mjohnson'), (1, 'bjohnson'), (1, 'kjohnson'), (1, 'ojohnson'), (1, 'xjohnson'), (1, 'wjohnson'), (1, 'fjohnson'), (1, 'ujohnson'), (1, 'njohnson'), (1, 'kjohnson'), (1, 'jjohnson'), (1, 'ojohnson'), (1, 'xjohnson'), (1, 'wjohnson'), (1, 'fjohnson'), (1, 'ujohnson'), (1, 'njohnson'), (1, 'kjohnson'), (1, 'jjohnson'), (1, 'hjohnson'), (1, 'ojohnson'), (1, 'xjohnson'), (1, 'wjohnson'), (1, 'fjohnson'), (1, 'ujohnson'), (1, 'kjohnson'), (1, 'jjohnson'), (1, 'hjohnson'), (1, 'ojohnson'), (1, 'xjohnson'), (1, 'ujohnson'), (1, 'kjohnson'), (1, 'jjohnson'), (1, 'hjohnson'), (1, 'ojohnson'), (1, 'xjohnson'), (1, 'ujohnson'), (1, 'kjohnson'), (1, 'jjohnson'), (1, 'xjohnson'), (1, 'kjohnson'), (1, 'jjohnson'), (1, 'kjohnson'), (1, 'jjohnson'), (1, 'kjohnson'), (1, 'jjohnson'), (1, 'jjohnson'), (1, 'jjohnson'), (1, 'jjohnson'), (1, 'jjohnson'), (2, 'ejohnston'), (2, 'gjohnston'), (2, 'ejohnston'), (2, 'djohnston'), (2, 'qjohnston'), (2, 'jjohnston'), (2, 'rjohnston'), (2, 'jjohnston'), (2, 'hjohnston'), (2, 'xjohnston'), (2, 'hjohnston'), (2, 'zjohnston'), (2, 'wjohnston'), (2, 'pjohnston'), (2, 'njohnston')]\n",
      "joseph19\n",
      "[(1, 'joseph13'), (1, 'joseph11'), (1, 'joseph18'), (1, 'joseph11'), (1, 'joseph10'), (1, 'joseph18'), (1, 'joseph11'), (1, 'joseph12'), (1, 'joseph10'), (1, 'joseph79'), (1, 'joseph11'), (1, 'joseph10'), (1, 'joseph79'), (1, 'joseph59'), (1, 'joseph69'), (1, 'joseph79'), (1, 'joseph69'), (2, 'joseph83'), (2, 'joseph86'), (2, 'joseph08'), (2, 'joseph35'), (2, 'joseph23'), (2, 'joseph83'), (2, 'joseph03'), (2, 'joseph41'), (2, 'joseph96'), (2, 'joseph78'), (2, 'joseph86'), (2, 'joseph08'), (2, 'joseph00'), (2, 'joseph30'), (2, 'joseph38'), (2, 'joseph35'), (2, 'joseph76'), (2, 'joseph88'), (2, 'joseph96'), (2, 'joseph45'), (2, 'joseph68'), (2, 'joseph78'), (2, 'joseph08'), (2, 'joseph01'), (2, 'joseph00'), (2, 'joseph37'), (2, 'joseph34'), (2, 'joseph38'), (2, 'joseph91'), (2, 'joseph72'), (2, 'joseph76'), (2, 'joseph56'), (2, 'joseph80'), (2, 'joseph45'), (2, 'joseph95'), (2, 'joseph97'), (2, 'joseph77'), (2, 'joseph58'), (2, 'joseph68'), (2, 'joseph06'), (2, 'joseph01'), (2, 'joseph00'), (2, 'joseph31'), (2, 'joseph51'), (2, 'joseph91'), (2, 'joseph52'), (2, 'joseph20'), (2, 'joseph72'), (2, 'joseph66'), (2, 'joseph87'), (2, 'joseph44'), (2, 'joseph65'), (2, 'joseph95'), (2, 'joseph90'), (2, 'joseph64'), (2, 'joseph77'), (2, 'joseph48'), (2, 'joseph58'), (2, 'joseph02'), (2, 'joseph06'), (2, 'joseph32'), (2, 'joseph61'), (2, 'joseph51'), (2, 'joseph91'), (2, 'joseph62'), (2, 'joseph24'), (2, 'joseph72'), (2, 'joseph46'), (2, 'joseph66'), (2, 'joseph84'), (2, 'joseph44'), (2, 'joseph65'), (2, 'joseph57'), (2, 'joseph94'), (2, 'joseph50'), (2, 'joseph60'), (2, 'joseph64'), (2, 'joseph70'), (2, 'joseph98'), (2, 'joseph48'), (2, 'joseph02'), (2, 'joseph05'), (2, 'joseph36'), (2, 'joseph61'), (2, 'joseph81'), (2, 'joseph22'), (2, 'joseph24'), (2, 'joseph25'), (2, 'joseph57'), (2, 'joseph54'), (2, 'joseph75'), (2, 'joseph61')]\n",
      "michael68\n",
      "[(0, 'michael68'), (0, 'michael68'), (0, 'michael68'), (1, 'michael60'), (1, 'michael66'), (1, 'michael60'), (1, 'michael64'), (1, 'michael66'), (1, 'michael61'), (1, 'michael64'), (1, 'michael66'), (1, 'michael63'), (1, 'michael61'), (1, 'michael64'), (1, 'michael66'), (1, 'michael63'), (1, 'michael61'), (1, 'michael64'), (1, 'michael88'), (1, 'michael28'), (1, 'michael63'), (1, 'michael69'), (1, 'michael88'), (1, 'michael18'), (1, 'michael58'), (1, 'michael28'), (1, 'michael63'), (1, 'michael67'), (1, 'michael18'), (1, 'michael48'), (1, 'michael78'), (1, 'michael58'), (1, 'michael63'), (1, 'michael67'), (1, 'michael65'), (1, 'michael18'), (1, 'michael48'), (1, 'michael78'), (1, 'michael08'), (1, 'michael63'), (1, 'michael67'), (1, 'michael62'), (1, 'michael18'), (1, 'michael98'), (1, 'michael48'), (1, 'michael08'), (1, 'michael62'), (1, 'michael18'), (1, 'michael98'), (1, 'michael48'), (1, 'michael62'), (1, 'michael98'), (2, 'michael81'), (2, 'michele68'), (2, 'michael41'), (2, 'michael22'), (2, 'michael81'), (2, 'michael20'), (2, 'michael91'), (2, 'michael41'), (2, 'michael83'), (2, 'michael06'), (2, 'michael02'), (2, 'michael22'), (2, 'michael81'), (2, 'michael80'), (2, 'michael20'), (2, 'michael01'), (2, 'michael91'), (2, 'michael41'), (2, 'michael85'), (2, 'michael83'), (2, 'michael13'), (2, 'michael09'), (2, 'michael06'), (2, 'michael72'), (2, 'michael23'), (2, 'michael22'), (2, 'michael81'), (2, 'michael80'), (2, 'michael70'), (2, 'michael20'), (2, 'michael11'), (2, 'michael01'), (2, 'michael91'), (2, 'michael41'), (2, 'michael85'), (2, 'michael84'), (2, 'michael93'), (2, 'michael55'), (2, 'michael13'), (2, 'michael07'), (2, 'michael36'), (2, 'michael09'), (2, 'michael06'), (2, 'michael92'), (2, 'michael72'), (2, 'michael25'), (2, 'michael23'), (2, 'michael22'), (2, 'michael81'), (2, 'michael80'), (2, 'michael10'), (2, 'michael70'), (2, 'michael20'), (2, 'michael21'), (2, 'michael11'), (2, 'michael01'), (2, 'michael91'), (2, 'michael41'), (2, 'michael85'), (2, 'michael84'), (2, 'michael14'), (2, 'michael33'), (2, 'michael93'), (2, 'michael37'), (2, 'michael35'), (2, 'michael55'), (2, 'michael05'), (2, 'michael07'), (2, 'michael36'), (2, 'michael76'), (2, 'michael09'), (2, 'michael32'), (2, 'michael92'), (2, 'michael72'), (2, 'michael25'), (2, 'michael23'), (2, 'michael22'), (2, 'michael80'), (2, 'michael90'), (2, 'michael10'), (2, 'michael21'), (2, 'michael51'), (2, 'michael01'), (2, 'michael91'), (2, 'michael85'), (2, 'michael87'), (2, 'michael84'), (2, 'michael14'), (2, 'michael53'), (2, 'michael33'), (2, 'michael79'), (2, 'michael97'), (2, 'michael37'), (2, 'michael45'), (2, 'michael35'), (2, 'michael55'), (2, 'michael03'), (2, 'michael05'), (2, 'michael07'), (2, 'michael36'), (2, 'michael56'), (2, 'michael76'), (2, 'michael09'), (2, 'michael12'), (2, 'michael32'), (2, 'michael92'), (2, 'michael72'), (2, 'michael24'), (2, 'michael25'), (2, 'michael23'), (2, 'michael80'), (2, 'michael40'), (2, 'michael10'), (2, 'michael21'), (2, 'michael71'), (2, 'michael51'), (2, 'michael91'), (2, 'michael89'), (2, 'michael84'), (2, 'michael15'), (2, 'michael14'), (2, 'michael53'), (2, 'michael43'), (2, 'michael33'), (2, 'michael79'), (2, 'michael39'), (2, 'michael77'), (2, 'michael97'), (2, 'michael37'), (2, 'michael54'), (2, 'michael95'), (2, 'michael45'), (2, 'michael35'), (2, 'michael55'), (2, 'michael04'), (2, 'michael03'), (2, 'michael07'), (2, 'michael36'), (2, 'michael46'), (2, 'michael56'), (2, 'michael09'), (2, 'michael12'), (2, 'michael52'), (2, 'michael32'), (2, 'michael92'), (2, 'michael72'), (2, 'michael26'), (2, 'michael25'), (2, 'michael00'), (2, 'michael40'), (2, 'michael10'), (2, 'michael71'), (2, 'michael31'), (2, 'michael51'), (2, 'michael82'), (2, 'michael89'), (2, 'michael84'), (2, 'michael19'), (2, 'michael15'), (2, 'michael14'), (2, 'michael53'), (2, 'michael43'), (2, 'michael33'), (2, 'michael94'), (2, 'michael44'), (2, 'michael79'), (2, 'michael99'), (2, 'michael74'), (2, 'michael39'), (2, 'michael34'), (2, 'michael77'), (2, 'michael47'), (2, 'michael97'), (2, 'michael37'), (2, 'michael57'), (2, 'michael54'), (2, 'michael95'), (2, 'michael75'), (2, 'michael45'), (2, 'michael35'), (2, 'michael04'), (2, 'michael03'), (2, 'michael07'), (2, 'michael36'), (2, 'michael16'), (2, 'michael46'), (2, 'michael12'), (2, 'michael42'), (2, 'michael72'), (2, 'michael27'), (2, 'michael26'), (2, 'michael25'), (2, 'michael00'), (2, 'michael30'), (2, 'michael71'), (2, 'michael31'), (2, 'michael51'), (2, 'michael82'), (2, 'michael86'), (2, 'michael17'), (2, 'michael19'), (2, 'michael15'), (2, 'michael53'), (2, 'michael43'), (2, 'michael33'), (2, 'michael94'), (2, 'michael44'), (2, 'michael99'), (2, 'michael49'), (2, 'michael74'), (2, 'michael39'), (2, 'michael34'), (2, 'michael77'), (2, 'michael37'), (2, 'michael57'), (2, 'michael59'), (2, 'michael54'), (2, 'michael75'), (2, 'michael35'), (2, 'michael04'), (2, 'michael36'), (2, 'michael96'), (2, 'michael16'), (2, 'michael46'), (2, 'michael42'), (2, 'michael29'), (2, 'michael27'), (2, 'michael00'), (2, 'michael30'), (2, 'michael71'), (2, 'michael31'), (2, 'michael43'), (2, 'michael94'), (2, 'michael44'), (2, 'michael99'), (2, 'michael39'), (2, 'michael34'), (2, 'michael77'), (2, 'michael37'), (2, 'michael57'), (2, 'michael59'), (2, 'michael54'), (2, 'michael04'), (2, 'michael36'), (2, 'michael96'), (2, 'michael16'), (2, 'michael46'), (2, 'michael42'), (2, 'michael29'), (2, 'michael00'), (2, 'michael31'), (2, 'michael94'), (2, 'michael44'), (2, 'michael99'), (2, 'michael39'), (2, 'michael34'), (2, 'michael37'), (2, 'michael59'), (2, 'michael36'), (2, 'michael94'), (2, 'michael99'), (2, 'michael39'), (2, 'michael59'), (2, 'michael36'), (2, 'michael59')]\n",
      "wreynolds\n",
      "[(1, 'qreynolds'), (1, 'breynolds'), (1, 'sreynolds'), (1, 'ureynolds'), (1, 'areynolds'), (1, 'jreynolds'), (1, 'breynolds'), (1, 'sreynolds'), (1, 'areynolds'), (1, 'creynolds'), (1, 'dreynolds'), (1, 'xreynolds'), (1, 'dreynolds'), (1, 'kreynolds'), (1, 'rreynolds'), (1, 'vreynolds'), (1, 'zreynolds')]\n",
      "rodney48\n",
      "[(0, 'rodney48'), (1, 'rodney68'), (1, 'rodney40'), (1, 'rodney45'), (1, 'rodney44'), (2, 'rodney89'), (2, 'rodney05'), (2, 'rodney27'), (2, 'rodney80'), (2, 'rodney55'), (2, 'rodney26'), (2, 'rodney73'), (2, 'rodney22'), (2, 'rodney57'), (2, 'rodney01'), (2, 'rodney79'), (2, 'rodney32'), (2, 'rodney66')]\n",
      "michele31\n",
      "[(1, 'michele91'), (1, 'michele39'), (1, 'michele38'), (1, 'michele01'), (1, 'michele35'), (1, 'michele35'), (1, 'michelle31'), (1, 'michelle31'), (2, 'michele19'), (2, 'michele78'), (2, 'michele09'), (2, 'michele66'), (2, 'michele05'), (2, 'michele99'), (2, 'michele68'), (2, 'michele70'), (2, 'michele83'), (2, 'michele67'), (2, 'michele94'), (2, 'michele07'), (2, 'michele59'), (2, 'michele99'), (2, 'michaela31'), (2, 'michele58'), (2, 'michele10'), (2, 'michele43'), (2, 'michelle36'), (2, 'michele69'), (2, 'michele50'), (2, 'mitchell31'), (2, 'michelle34'), (2, 'michele24'), (2, 'michelle41'), (2, 'michelle91'), (2, 'michele54'), (2, 'michelle01'), (2, 'michelle91'), (2, 'michele44'), (2, 'michelle30'), (2, 'michelle11'), (2, 'michelle81'), (2, 'michelle35'), (2, 'michelle01'), (2, 'michelle91'), (2, 'michelle30'), (2, 'michelle38'), (2, 'michelle61'), (2, 'michelle51'), (2, 'michael31'), (2, 'michael31'), (2, 'michael31'), (2, 'michael31')]\n",
      "bday\n",
      "[(1, 'gday'), (1, 'tday'), (1, 'hday'), (1, 'wday'), (1, 'nday'), (1, 'iday'), (1, 'lday'), (1, 'dday'), (1, 'lday'), (1, 'yday'), (1, 'rday'), (1, 'eday'), (1, 'uday'), (1, 'cday'), (2, 'dray'), (2, 'fray'), (2, 'zbray'), (2, 'mbray'), (2, 'bmays'), (2, 'nray'), (2, 'vgay'), (2, 'jray'), (2, 'mbray'), (2, 'qray'), (2, 'bdiaz'), (2, 'sgay'), (2, 'gray'), (2, 'nray'), (2, 'umay'), (2, 'qray'), (2, 'qmay'), (2, 'dgay'), (2, 'dbray'), (2, 'bdiaz'), (2, 'oray'), (2, 'gray'), (2, 'nray'), (2, 'imay'), (2, 'hray'), (2, 'cmay'), (2, 'rray'), (2, 'hmay'), (2, 'wray'), (2, 'pmay'), (2, 'xray'), (2, 'tmay'), (2, 'kray'), (2, 'uray')]\n",
      "rachel09\n",
      "[(0, 'rachel09'), (0, 'rachel09'), (1, 'rachel00'), (1, 'rachel79'), (1, 'rachel04'), (1, 'rachel02'), (1, 'rachel06'), (1, 'rachel69'), (1, 'rachel59'), (1, 'rachel19'), (2, 'rachel93'), (2, 'rachel98'), (2, 'rachel38'), (2, 'rachel13'), (2, 'rachel96'), (2, 'rachel72'), (2, 'rachel58'), (2, 'rachel33'), (2, 'rachel96'), (2, 'rachel94'), (2, 'rachel52'), (2, 'rachel72'), (2, 'rachel31'), (2, 'rachel88'), (2, 'rachel23'), (2, 'rachel52'), (2, 'rachel82'), (2, 'rachel55'), (2, 'rachel50'), (2, 'rachel30'), (2, 'rachel88'), (2, 'rachel18'), (2, 'rachel83'), (2, 'rachel82'), (2, 'rachel42'), (2, 'rachel70'), (2, 'rachel84'), (2, 'rachel45'), (2, 'rachel10'), (2, 'rachel30'), (2, 'rachel82'), (2, 'rachel87'), (2, 'rachel21'), (2, 'rachel56'), (2, 'rachel45'), (2, 'rachel80'), (2, 'rachael39'), (2, 'rachel12'), (2, 'rachel87'), (2, 'rachel14'), (2, 'rachel11'), (2, 'rachel20'), (2, 'rachel22'), (2, 'rachel14'), (2, 'rachel24'), (2, 'rachel26'), (2, 'rachel22'), (2, 'rachel67')]\n",
      "dbaker\n",
      "[(0, 'dbaker'), (0, 'dbaker'), (1, 'vbaker'), (1, 'vbaker'), (1, 'kbaker'), (1, 'ebaker'), (1, 'nbaker'), (1, 'vbaker'), (1, 'dbauer'), (1, 'qbaker'), (1, 'rbaker'), (1, 'kbaker'), (1, 'ebaker'), (1, 'vbaker'), (1, 'dbarker'), (1, 'rbaker'), (1, 'ybaker'), (1, 'rbaker'), (1, 'ubaker'), (1, 'ybaker'), (1, 'rbaker'), (1, 'bbaker'), (1, 'ybaker'), (1, 'rbaker'), (1, 'ibaker'), (1, 'bbaker'), (1, 'ybaker'), (1, 'rbaker'), (1, 'hbaker'), (1, 'ibaker'), (1, 'ybaker'), (1, 'rbaker'), (1, 'gbaker'), (1, 'hbaker'), (1, 'ibaker'), (1, 'lbaker'), (1, 'gbaker'), (1, 'hbaker'), (1, 'jbaker'), (1, 'lbaker'), (1, 'hbaker'), (1, 'jbaker'), (1, 'mbaker'), (1, 'jbaker'), (1, 'xbaker'), (1, 'wbaker'), (1, 'xbaker'), (1, 'sbaker'), (1, 'wbaker'), (1, 'xbaker'), (1, 'fbaker'), (1, 'wbaker'), (1, 'pbaker'), (1, 'cbaker'), (1, 'obaker'), (2, 'dwalker'), (2, 'obarker'), (2, 'abarker'), (2, 'dblake'), (2, 'mbauer'), (2, 'vbarker'), (2, 'qbauer'), (2, 'jbauer'), (2, 'mbauer'), (2, 'dparker'), (2, 'sbarker'), (2, 'cbauer'), (2, 'rbarker'), (2, 'abauer'), (2, 'xbarker'), (2, 'rbarker'), (2, 'zbauer'), (2, 'cbarker'), (2, 'ubauer'), (2, 'obauer'), (2, 'tbauer'), (2, 'ybauer')]\n",
      "kenneth61\n",
      "[(1, 'kenneth81'), (1, 'kenneth81'), (1, 'kenneth51'), (1, 'kenneth68'), (1, 'kenneth65'), (1, 'kenneth51'), (1, 'kenneth68'), (1, 'kenneth60'), (2, 'kenneth34'), (2, 'kenneth97'), (2, 'kenneth38'), (2, 'kenneth93'), (2, 'kenneth95'), (2, 'kenneth28'), (2, 'kenneth97'), (2, 'kenneth46'), (2, 'kenneth30'), (2, 'kenneth92'), (2, 'kenneth93'), (2, 'kenneth52'), (2, 'kenneth96'), (2, 'kenneth57'), (2, 'kenneth16'), (2, 'kenneth20'), (2, 'kenneth54'), (2, 'kenneth80'), (2, 'kenneth49'), (2, 'kenneth30'), (2, 'kenneth39'), (2, 'kenneth53'), (2, 'kenneth92'), (2, 'kenneth32'), (2, 'kenneth98'), (2, 'kenneth27'), (2, 'kenneth19'), (2, 'kenneth55'), (2, 'kenneth16'), (2, 'kenneth18'), (2, 'kenneth29'), (2, 'kenneth24'), (2, 'kenneth40'), (2, 'kenneth53'), (2, 'kenneth43'), (2, 'kenneth32'), (2, 'kenneth90'), (2, 'kenneth77'), (2, 'kenneth76'), (2, 'kenneth10'), (2, 'kenneth09'), (2, 'kenneth55'), (2, 'kenneth04'), (2, 'kenneth44'), (2, 'kenneth73'), (2, 'kenneth56'), (2, 'kenneth76'), (2, 'kenneth70')]\n",
      "irodriguez\n",
      "[(0, 'irodriguez'), (0, 'irodriguez'), (0, 'irodriguez'), (1, 'xrodriguez'), (1, 'grodriguez'), (1, 'xrodriguez'), (1, 'grodriguez'), (1, 'xrodriguez'), (1, 'zrodriguez'), (1, 'vrodriguez'), (1, 'grodriguez'), (1, 'krodriguez'), (1, 'zrodriguez'), (1, 'qrodriguez'), (1, 'brodriguez'), (1, 'vrodriguez'), (1, 'grodriguez'), (1, 'krodriguez'), (1, 'zrodriguez'), (1, 'qrodriguez'), (1, 'urodriguez'), (1, 'brodriguez'), (1, 'vrodriguez'), (1, 'grodriguez'), (1, 'trodriguez'), (1, 'krodriguez'), (1, 'zrodriguez'), (1, 'qrodriguez'), (1, 'wrodriguez'), (1, 'urodriguez'), (1, 'brodriguez'), (1, 'vrodriguez'), (1, 'trodriguez'), (1, 'zrodriguez'), (1, 'qrodriguez'), (1, 'arodriguez'), (1, 'wrodriguez'), (1, 'urodriguez'), (1, 'qrodriguez'), (1, 'rrodriguez'), (1, 'arodriguez'), (1, 'wrodriguez'), (1, 'urodriguez'), (1, 'qrodriguez'), (1, 'yrodriguez'), (1, 'rrodriguez'), (1, 'arodriguez'), (1, 'urodriguez'), (1, 'hrodriguez'), (1, 'yrodriguez'), (1, 'rrodriguez'), (1, 'urodriguez'), (1, 'crodriguez'), (1, 'yrodriguez'), (1, 'rrodriguez'), (1, 'urodriguez'), (1, 'lrodriguez'), (1, 'crodriguez'), (1, 'yrodriguez'), (1, 'rrodriguez'), (1, 'jrodriguez'), (1, 'lrodriguez'), (1, 'yrodriguez'), (1, 'rrodriguez'), (1, 'jrodriguez'), (1, 'orodriguez'), (1, 'lrodriguez'), (1, 'yrodriguez'), (1, 'srodriguez'), (1, 'orodriguez'), (1, 'mrodriguez'), (1, 'srodriguez'), (1, 'mrodriguez'), (1, 'frodriguez'), (1, 'srodriguez'), (1, 'mrodriguez'), (1, 'erodriguez'), (1, 'frodriguez'), (1, 'mrodriguez'), (1, 'nrodriguez'), (1, 'erodriguez'), (1, 'frodriguez'), (1, 'prodriguez')]\n",
      "blong\n",
      "[(0, 'blong'), (0, 'blong'), (0, 'blong'), (1, 'along'), (1, 'glong'), (1, 'elong'), (1, 'ilong'), (1, 'elong'), (1, 'wlong'), (1, 'ilong'), (1, 'elong'), (1, 'zlong'), (1, 'wlong'), (1, 'flong'), (1, 'wlong'), (1, 'rlong'), (1, 'wlong'), (1, 'clong'), (1, 'rlong'), (1, 'nlong'), (1, 'plong'), (1, 'hlong'), (1, 'vlong'), (2, 'mwong'), (2, 'alang'), (2, 'iwong'), (2, 'awong'), (2, 'qlang'), (2, 'rlang'), (2, 'cwong'), (2, 'xwong'), (2, 'blynn'), (2, 'byoung'), (2, 'uwong'), (2, 'zlang'), (2, 'byoung'), (2, 'vwong'), (2, 'mlang'), (2, 'byoung'), (2, 'tlang'), (2, 'ylang'), (2, 'elang')]\n",
      "dwhite\n",
      "[(0, 'dwhite'), (0, 'dwhite'), (0, 'dwhite'), (0, 'dwhite'), (1, 'vwhite'), (1, 'qwhite'), (1, 'lwhite'), (1, 'iwhite'), (1, 'vwhite'), (1, 'qwhite'), (1, 'kwhite'), (1, 'lwhite'), (1, 'jwhite'), (1, 'iwhite'), (1, 'vwhite'), (1, 'qwhite'), (1, 'nwhite'), (1, 'kwhite'), (1, 'lwhite'), (1, 'jwhite'), (1, 'iwhite'), (1, 'bwhite'), (1, 'qwhite'), (1, 'gwhite'), (1, 'nwhite'), (1, 'lwhite'), (1, 'iwhite'), (1, 'pwhite'), (1, 'gwhite'), (1, 'swhite'), (1, 'pwhite'), (1, 'gwhite'), (1, 'awhite'), (1, 'swhite'), (1, 'pwhite'), (1, 'awhite'), (1, 'zwhite'), (1, 'pwhite'), (1, 'awhite'), (1, 'wwhite'), (1, 'zwhite'), (1, 'pwhite'), (1, 'ewhite'), (1, 'wwhite'), (1, 'zwhite'), (1, 'pwhite'), (1, 'cwhite'), (1, 'ewhite'), (1, 'mwhite'), (1, 'cwhite'), (1, 'ewhite'), (1, 'ywhite'), (1, 'mwhite'), (1, 'uwhite'), (1, 'ywhite'), (1, 'twhite'), (1, 'uwhite'), (1, 'ywhite'), (1, 'xwhite'), (1, 'uwhite'), (1, 'ywhite'), (1, 'owhite'), (1, 'xwhite'), (1, 'ywhite'), (1, 'owhite'), (1, 'hwhite'), (1, 'xwhite'), (1, 'owhite')]\n",
      "clopez\n",
      "[(0, 'clopez'), (0, 'clopez'), (0, 'clopez'), (0, 'clopez'), (1, 'mlopez'), (1, 'dlopez'), (1, 'nlopez'), (1, 'ilopez'), (1, 'mlopez'), (1, 'qlopez'), (1, 'nlopez'), (1, 'mlopez'), (1, 'jlopez'), (1, 'qlopez'), (1, 'vlopez'), (1, 'mlopez'), (1, 'jlopez'), (1, 'qlopez'), (1, 'rlopez'), (1, 'vlopez'), (1, 'qlopez'), (1, 'plopez'), (1, 'rlopez'), (1, 'qlopez'), (1, 'hlopez'), (1, 'plopez'), (1, 'rlopez'), (1, 'qlopez'), (1, 'alopez'), (1, 'hlopez'), (1, 'plopez'), (1, 'rlopez'), (1, 'olopez'), (1, 'alopez'), (1, 'hlopez'), (1, 'plopez'), (1, 'rlopez'), (1, 'ylopez'), (1, 'olopez'), (1, 'plopez'), (1, 'flopez'), (1, 'ylopez'), (1, 'plopez'), (1, 'tlopez'), (1, 'flopez'), (1, 'blopez'), (1, 'tlopez'), (1, 'flopez'), (1, 'ulopez'), (1, 'blopez'), (1, 'tlopez'), (1, 'flopez'), (1, 'llopez'), (1, 'ulopez'), (1, 'blopez'), (1, 'flopez'), (1, 'glopez'), (1, 'llopez'), (1, 'ulopez'), (1, 'blopez'), (1, 'glopez'), (1, 'wlopez'), (1, 'llopez'), (1, 'glopez'), (1, 'wlopez'), (1, 'elopez'), (1, 'glopez'), (1, 'wlopez'), (1, 'zlopez'), (1, 'wlopez'), (1, 'slopez'), (1, 'zlopez'), (1, 'slopez'), (1, 'xlopez'), (1, 'klopez'), (1, 'xlopez'), (2, 'cgomez')]\n",
      "ldillon\n",
      "[(1, 'gdillon'), (1, 'edillon'), (1, 'mdillon'), (1, 'kdillon'), (1, 'jdillon'), (1, 'cdillon'), (2, 'ldixon'), (2, 'lwilson')]\n",
      "billy47\n",
      "[(0, 'billy47'), (1, 'billy49'), (2, 'billy55'), (2, 'billy05'), (2, 'billy01'), (2, 'billy64'), (2, 'billy33'), (2, 'billy26'), (2, 'billy09'), (2, 'billy33'), (2, 'billy36'), (2, 'billy91'), (2, 'billy20'), (2, 'billy36'), (2, 'billy34'), (2, 'billy12'), (2, 'billy82'), (2, 'billy89')]\n",
      "eriley\n",
      "[(0, 'eriley'), (1, 'qriley'), (1, 'griley'), (1, 'xriley'), (1, 'briley'), (1, 'xriley'), (1, 'ariley'), (1, 'briley'), (1, 'uriley'), (1, 'sriley'), (1, 'oriley'), (1, 'jriley'), (1, 'triley'), (1, 'mriley'), (1, 'nriley'), (1, 'iriley'), (2, 'ericlee'), (2, 'mwiley'), (2, 'efoley'), (2, 'pwiley'), (2, 'efinley'), (2, 'ericlevy'), (2, 'jwiley'), (2, 'swiley'), (2, 'efinley'), (2, 'erice'), (2, 'rwiley'), (2, 'ebailey')]\n",
      "laurie71\n",
      "[(0, 'laurie71'), (1, 'laurie76'), (2, 'laurie83'), (2, 'laurie40'), (2, 'laurie29'), (2, 'laurie23'), (2, 'laurie45'), (2, 'laurie38'), (2, 'laurie20'), (2, 'laurie09'), (2, 'laura71'), (2, 'laurie24'), (2, 'laurie44'), (2, 'laurie35'), (2, 'laurie17')]\n",
      "xnewman\n",
      "[(1, 'gnewman'), (1, 'anewman'), (1, 'vnewman'), (1, 'ynewman'), (1, 'rnewman'), (1, 'qnewman'), (1, 'nnewman'), (1, 'qnewman'), (2, 'xbowman'), (2, 'xnewton')]\n",
      "ross99\n",
      "[(2, 'ross18'), (2, 'ross53'), (2, 'rose93'), (2, 'ross35'), (2, 'jose99'), (2, 'rose49')]\n",
      "terri73\n",
      "[(1, 'terri43'), (1, 'terri78'), (2, 'terry33'), (2, 'terri91'), (2, 'terri07'), (2, 'terri58'), (2, 'terri61'), (2, 'terri19'), (2, 'terri86'), (2, 'terri21'), (2, 'terri36')]\n",
      "shampton\n",
      "[(1, 'fhampton'), (1, 'dhampton'), (1, 'ihampton'), (1, 'dhampton'), (1, 'phampton'), (1, 'jhampton'), (1, 'mhampton'), (1, 'lhampton'), (1, 'ohampton'), (1, 'khampton')]\n",
      "holly03\n",
      "[(0, 'holly03'), (1, 'holly00'), (1, 'holly04'), (1, 'holly05'), (1, 'holly00'), (2, 'holly45'), (2, 'holly21'), (2, 'holly44'), (2, 'holly48'), (2, 'holly50'), (2, 'holly62'), (2, 'holly25'), (2, 'molly23'), (2, 'holly89'), (2, 'holly90'), (2, 'holly67'), (2, 'holly54'), (2, 'molly13'), (2, 'holly70'), (2, 'holly90'), (2, 'holly31'), (2, 'kelly03'), (2, 'holly80'), (2, 'holly31')]\n",
      "christopher01\n",
      "[(0, 'christopher01'), (0, 'christopher01'), (0, 'christopher01'), (1, 'christopher09'), (1, 'christopher09'), (1, 'christopher51'), (1, 'christopher21'), (1, 'christopher06'), (1, 'christopher91'), (1, 'christopher05'), (1, 'christopher21'), (1, 'christopher91'), (1, 'christopher81'), (1, 'christopher05'), (1, 'christopher31'), (1, 'christopher08'), (1, 'christopher21'), (1, 'christopher71'), (1, 'christopher91'), (1, 'christopher81'), (1, 'christopher03'), (1, 'christopher05'), (1, 'christopher31'), (1, 'christopher08'), (1, 'christopher71'), (1, 'christopher91'), (1, 'christopher00'), (1, 'christopher41'), (1, 'christopher04'), (1, 'christopher31'), (1, 'christopher07'), (1, 'christopher00'), (1, 'christopher41'), (1, 'christopher02'), (1, 'christopher00'), (1, 'christopher41'), (2, 'christopher99'), (2, 'christopher10'), (2, 'christopher13'), (2, 'christopher76'), (2, 'christopher10'), (2, 'christopher59'), (2, 'christopher90'), (2, 'christopherle'), (2, 'christopher50'), (2, 'christopher12'), (2, 'christopher52'), (2, 'christopher56'), (2, 'christopher76'), (2, 'christopher19'), (2, 'christopher97'), (2, 'christopher90'), (2, 'kristopher01'), (2, 'christopher60'), (2, 'christopher50'), (2, 'christopher14'), (2, 'christopher12'), (2, 'christopher27'), (2, 'christopher74'), (2, 'christopher46'), (2, 'christopher56'), (2, 'christopher89'), (2, 'christopher93'), (2, 'christopher97'), (2, 'christopher90'), (2, 'christopher20'), (2, 'christopher60'), (2, 'christopher14'), (2, 'christopher15'), (2, 'christopher38'), (2, 'christopher27'), (2, 'christopher42'), (2, 'christopher57'), (2, 'christopher74'), (2, 'christopher78'), (2, 'christopher46'), (2, 'christopher56'), (2, 'christopher49'), (2, 'christopher89'), (2, 'christopher97'), (2, 'christopher70'), (2, 'christopher20'), (2, 'christopher60'), (2, 'christopher16'), (2, 'christopher48'), (2, 'christopher23'), (2, 'christopher47'), (2, 'christopher27'), (2, 'christopher82'), (2, 'christopher54'), (2, 'christopher74'), (2, 'christopher73'), (2, 'christopher78'), (2, 'christopher26'), (2, 'christopher56'), (2, 'christopher49'), (2, 'christopher69'), (2, 'christopher96'), (2, 'christopher30'), (2, 'christopher60'), (2, 'christopher16'), (2, 'christopher48'), (2, 'christopher25'), (2, 'christopher23'), (2, 'christopher47'), (2, 'christopher67'), (2, 'christopher27'), (2, 'christopher22'), (2, 'christopher82'), (2, 'christopher58'), (2, 'christopher54'), (2, 'christopher74'), (2, 'christopher36'), (2, 'christopher56'), (2, 'christopher79'), (2, 'christopher95'), (2, 'christopher96'), (2, 'christopher40'), (2, 'christopher30'), (2, 'christopher43'), (2, 'christopher83'), (2, 'christopher85'), (2, 'christopher48'), (2, 'christopher34'), (2, 'christopher68'), (2, 'christopher24'), (2, 'christopher25'), (2, 'christopher23'), (2, 'christopher87'), (2, 'christopher67'), (2, 'christopher32'), (2, 'christopher82'), (2, 'christopher58'), (2, 'christopher55'), (2, 'christopher74'), (2, 'christopher75'), (2, 'christopher92'), (2, 'christopher95'), (2, 'christopher63'), (2, 'christopher83'), (2, 'christopher45'), (2, 'christopher48'), (2, 'christopher33'), (2, 'christopher34'), (2, 'christopher68'), (2, 'christopher28'), (2, 'christopher24'), (2, 'christopher25'), (2, 'christopher23'), (2, 'christopher62'), (2, 'christopher58'), (2, 'christopher55'), (2, 'christopher53'), (2, 'christopher77'), (2, 'christopher98'), (2, 'christopher92'), (2, 'christopher44'), (2, 'christopher63'), (2, 'christopher83'), (2, 'christopher45'), (2, 'christopher34'), (2, 'christopher28'), (2, 'christopher24'), (2, 'christopher62'), (2, 'christopher58'), (2, 'christopher72'), (2, 'christopher77'), (2, 'christopher83'), (2, 'christopher34'), (2, 'christopher24'), (2, 'christopher83')]\n",
      "udavis\n",
      "[(0, 'udavis'), (0, 'udavis'), (0, 'udavis'), (0, 'udavis'), (0, 'udavis'), (0, 'udavis'), (1, 'qdavis'), (1, 'sdavis'), (1, 'qdavis'), (1, 'idavis'), (1, 'sdavis'), (1, 'qdavis'), (1, 'hdavis'), (1, 'idavis'), (1, 'sdavis'), (1, 'qdavis'), (1, 'xdavis'), (1, 'hdavis'), (1, 'idavis'), (1, 'sdavis'), (1, 'qdavis'), (1, 'wdavis'), (1, 'xdavis'), (1, 'hdavis'), (1, 'idavis'), (1, 'fdavis'), (1, 'wdavis'), (1, 'xdavis'), (1, 'hdavis'), (1, 'idavis'), (1, 'fdavis'), (1, 'wdavis'), (1, 'xdavis'), (1, 'hdavis'), (1, 'jdavis'), (1, 'fdavis'), (1, 'wdavis'), (1, 'xdavis'), (1, 'hdavis'), (1, 'jdavis'), (1, 'cdavis'), (1, 'fdavis'), (1, 'wdavis'), (1, 'hdavis'), (1, 'jdavis'), (1, 'rdavis'), (1, 'cdavis'), (1, 'fdavis'), (1, 'hdavis'), (1, 'jdavis'), (1, 'kdavis'), (1, 'rdavis'), (1, 'cdavis'), (1, 'fdavis'), (1, 'jdavis'), (1, 'pdavis'), (1, 'kdavis'), (1, 'rdavis'), (1, 'cdavis'), (1, 'fdavis'), (1, 'jdavis'), (1, 'ddavis'), (1, 'pdavis'), (1, 'kdavis'), (1, 'rdavis'), (1, 'cdavis'), (1, 'fdavis'), (1, 'adavis'), (1, 'ddavis'), (1, 'pdavis'), (1, 'kdavis'), (1, 'rdavis'), (1, 'mdavis'), (1, 'adavis'), (1, 'pdavis'), (1, 'kdavis'), (1, 'rdavis'), (1, 'mdavis'), (1, 'vdavis'), (1, 'adavis'), (1, 'pdavis'), (1, 'kdavis'), (1, 'rdavis'), (1, 'mdavis'), (1, 'ndavis'), (1, 'vdavis'), (1, 'adavis'), (1, 'kdavis'), (1, 'mdavis'), (1, 'odavis'), (1, 'ndavis'), (1, 'vdavis'), (1, 'adavis'), (1, 'mdavis'), (1, 'gdavis'), (1, 'odavis'), (1, 'ndavis'), (1, 'vdavis'), (1, 'mdavis'), (1, 'tdavis'), (1, 'gdavis'), (1, 'odavis'), (1, 'ndavis'), (1, 'ldavis'), (1, 'tdavis'), (1, 'gdavis'), (1, 'ldavis'), (1, 'ydavis'), (1, 'tdavis'), (1, 'gdavis'), (1, 'zdavis'), (1, 'ydavis'), (1, 'tdavis'), (1, 'zdavis'), (1, 'edavis'), (1, 'ydavis'), (1, 'tdavis'), (1, 'zdavis'), (1, 'bdavis'), (1, 'edavis'), (1, 'zdavis'), (2, 'jdavies'), (2, 'tdavid'), (2, 'rdavies'), (2, 'qdavid'), (2, 'ddavid'), (2, 'ndavies'), (2, 'rdavies'), (2, 'qdavies'), (2, 'idavid'), (2, 'rdavies'), (2, 'zdavid')]\n",
      "\n",
      "48\n",
      "CPU times: user 30.2 s, sys: 212 ms, total: 30.4 s\n",
      "Wall time: 30.5 s\n"
     ]
    }
   ],
   "source": [
    "%%time\n",
    "searchees = df.username.sample(100).to_list()\n",
    "count = 0\n",
    "for s in tqdm_notebook(searchees):\n",
    "    findings = bkt.find(s, 2)\n",
    "    if len(findings) > 5:\n",
    "        print(s)\n",
    "        print(findings)\n",
    "        count = count + 1\n",
    "print(count)"
   ]
  },
  {
   "cell_type": "code",
   "execution_count": null,
   "metadata": {},
   "outputs": [],
   "source": []
  }
 ],
 "metadata": {
  "kernelspec": {
   "display_name": "Python 3",
   "language": "python",
   "name": "python3"
  },
  "language_info": {
   "codemirror_mode": {
    "name": "ipython",
    "version": 3
   },
   "file_extension": ".py",
   "mimetype": "text/x-python",
   "name": "python",
   "nbconvert_exporter": "python",
   "pygments_lexer": "ipython3",
   "version": "3.7.2"
  }
 },
 "nbformat": 4,
 "nbformat_minor": 2
}
