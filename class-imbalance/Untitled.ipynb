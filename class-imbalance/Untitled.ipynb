{
 "cells": [
  {
   "cell_type": "code",
   "execution_count": 78,
   "metadata": {},
   "outputs": [],
   "source": [
    "import numpy as np\n",
    "from sklearn.model_selection import train_test_split, StratifiedKFold\n",
    "from sklearn.metrics import classification_report, average_precision_score, log_loss\n",
    "from sklearn.linear_model import LogisticRegression\n",
    "from sklearn.pipeline import Pipeline\n",
    "from sklearn.preprocessing import StandardScaler\n",
    "from sklearn.ensemble import RandomForestClassifier\n",
    "from sklearn.svm import SVC\n",
    "import pandas as pd\n",
    "import seaborn as sns\n",
    "import matplotlib.pyplot as plt\n",
    "import matplotlib\n",
    "seed = 1\n",
    "\n",
    "%matplotlib inline"
   ]
  },
  {
   "cell_type": "code",
   "execution_count": 23,
   "metadata": {},
   "outputs": [],
   "source": [
    "df = pd.read_csv('HTRU_2.csv', header=None)\n",
    "df.columns = [f'var{col}' for col in df.columns]"
   ]
  },
  {
   "cell_type": "code",
   "execution_count": 93,
   "metadata": {},
   "outputs": [],
   "source": [
    "X = df[df.columns[:-5]]\n",
    "y = df.var8"
   ]
  },
  {
   "cell_type": "code",
   "execution_count": 94,
   "metadata": {},
   "outputs": [],
   "source": [
    "X_train, X_test, y_train, y_test = train_test_split(X, y, test_size=0.20, stratify=y, random_state=seed)"
   ]
  },
  {
   "cell_type": "code",
   "execution_count": 95,
   "metadata": {},
   "outputs": [],
   "source": [
    "def assess_model(pl, X_train, X_test, y_train, y_test):\n",
    "        \n",
    "    # train assessment\n",
    "    pl.fit(X_train, y_train)\n",
    "    y_preds = pl.predict(X_train)\n",
    "    print('##### Train #####')\n",
    "    print(classification_report(y_train, y_preds))\n",
    "    \n",
    "    # dev assessment\n",
    "    y_preds = pl.predict(X_test)\n",
    "    print('##### Test #####')\n",
    "    print(classification_report(y_test, y_preds))\n",
    "    \n",
    "    return pl"
   ]
  },
  {
   "cell_type": "code",
   "execution_count": 100,
   "metadata": {},
   "outputs": [],
   "source": [
    "pl = Pipeline([\n",
    "    ('scaler',  StandardScaler()),\n",
    "    ('lr', LogisticRegression(solver='lbfgs', random_state=seed))\n",
    "])\n",
    "\n",
    "pl_bal = Pipeline([\n",
    "    ('scaler',  StandardScaler()),\n",
    "    ('lr', LogisticRegression(solver='lbfgs', random_state=seed, class_weight='balanced'))\n",
    "])\n",
    "\n",
    "pl_ridge = Pipeline([\n",
    "    ('scaler',  StandardScaler()),\n",
    "    ('lr', LogisticRegression(random_state=seed))\n",
    "])"
   ]
  },
  {
   "cell_type": "code",
   "execution_count": 101,
   "metadata": {},
   "outputs": [
    {
     "name": "stdout",
     "output_type": "stream",
     "text": [
      "##### Train #####\n",
      "              precision    recall  f1-score   support\n",
      "\n",
      "           0       0.98      1.00      0.99     13007\n",
      "           1       0.94      0.79      0.86      1311\n",
      "\n",
      "   micro avg       0.98      0.98      0.98     14318\n",
      "   macro avg       0.96      0.89      0.92     14318\n",
      "weighted avg       0.98      0.98      0.98     14318\n",
      "\n",
      "##### Test #####\n",
      "              precision    recall  f1-score   support\n",
      "\n",
      "           0       0.98      0.99      0.99      3252\n",
      "           1       0.94      0.80      0.87       328\n",
      "\n",
      "   micro avg       0.98      0.98      0.98      3580\n",
      "   macro avg       0.96      0.90      0.93      3580\n",
      "weighted avg       0.98      0.98      0.98      3580\n",
      "\n"
     ]
    }
   ],
   "source": [
    "pl = assess_model(pl, X_train, X_test, y_train, y_test)"
   ]
  },
  {
   "cell_type": "code",
   "execution_count": 102,
   "metadata": {},
   "outputs": [
    {
     "name": "stdout",
     "output_type": "stream",
     "text": [
      "##### Train #####\n",
      "              precision    recall  f1-score   support\n",
      "\n",
      "           0       0.99      0.97      0.98     13007\n",
      "           1       0.77      0.89      0.83      1311\n",
      "\n",
      "   micro avg       0.97      0.97      0.97     14318\n",
      "   macro avg       0.88      0.93      0.91     14318\n",
      "weighted avg       0.97      0.97      0.97     14318\n",
      "\n",
      "##### Test #####\n",
      "              precision    recall  f1-score   support\n",
      "\n",
      "           0       0.99      0.97      0.98      3252\n",
      "           1       0.76      0.89      0.82       328\n",
      "\n",
      "   micro avg       0.96      0.96      0.96      3580\n",
      "   macro avg       0.87      0.93      0.90      3580\n",
      "weighted avg       0.97      0.96      0.97      3580\n",
      "\n"
     ]
    }
   ],
   "source": [
    "pl_bal = assess_model(pl_bal, X_train, X_test, y_train, y_test)"
   ]
  },
  {
   "cell_type": "code",
   "execution_count": 103,
   "metadata": {},
   "outputs": [
    {
     "name": "stdout",
     "output_type": "stream",
     "text": [
      "##### Train #####\n",
      "              precision    recall  f1-score   support\n",
      "\n",
      "           0       0.98      1.00      0.99     13007\n",
      "           1       0.94      0.79      0.86      1311\n",
      "\n",
      "   micro avg       0.98      0.98      0.98     14318\n",
      "   macro avg       0.96      0.89      0.92     14318\n",
      "weighted avg       0.98      0.98      0.98     14318\n",
      "\n",
      "##### Test #####\n",
      "              precision    recall  f1-score   support\n",
      "\n",
      "           0       0.98      0.99      0.99      3252\n",
      "           1       0.94      0.80      0.87       328\n",
      "\n",
      "   micro avg       0.98      0.98      0.98      3580\n",
      "   macro avg       0.96      0.90      0.93      3580\n",
      "weighted avg       0.98      0.98      0.98      3580\n",
      "\n"
     ]
    },
    {
     "name": "stderr",
     "output_type": "stream",
     "text": [
      "/usr/local/anaconda3/lib/python3.7/site-packages/sklearn/linear_model/logistic.py:433: FutureWarning: Default solver will be changed to 'lbfgs' in 0.22. Specify a solver to silence this warning.\n",
      "  FutureWarning)\n"
     ]
    }
   ],
   "source": [
    "pl_ridge = assess_model(pl_ridge, X_train, X_test, y_train, y_test)"
   ]
  },
  {
   "cell_type": "code",
   "execution_count": 104,
   "metadata": {},
   "outputs": [],
   "source": [
    "y_preds = pl_bal.decision_function(X_test)"
   ]
  },
  {
   "cell_type": "code",
   "execution_count": 79,
   "metadata": {},
   "outputs": [
    {
     "data": {
      "text/plain": [
       "0.6946384060306943"
      ]
     },
     "execution_count": 79,
     "metadata": {},
     "output_type": "execute_result"
    }
   ],
   "source": [
    "log_loss(y_test, pl.predict(X_test))"
   ]
  },
  {
   "cell_type": "code",
   "execution_count": 80,
   "metadata": {},
   "outputs": [
    {
     "data": {
      "text/plain": [
       "1.0516165911871402"
      ]
     },
     "execution_count": 80,
     "metadata": {},
     "output_type": "execute_result"
    }
   ],
   "source": [
    "log_loss(y_test, pl_bal.predict(X_test))"
   ]
  },
  {
   "cell_type": "code",
   "execution_count": 77,
   "metadata": {},
   "outputs": [
    {
     "data": {
      "text/plain": [
       "Text(0.5,1,'2-class Precision-Recall curve: AP=0.92')"
      ]
     },
     "execution_count": 77,
     "metadata": {},
     "output_type": "execute_result"
    },
    {
     "data": {
      "image/png": "[encoded data removed]",
      "text/plain": [
       "<Figure size 432x288 with 1 Axes>"
      ]
     },
     "metadata": {
      "needs_background": "light"
     },
     "output_type": "display_data"
    }
   ],
   "source": [
    "from sklearn.metrics import precision_recall_curve\n",
    "import matplotlib.pyplot as plt\n",
    "from inspect import signature\n",
    "\n",
    "precision, recall, _ = precision_recall_curve(y_test, y_preds)\n",
    "average_precision = average_precision_score(y_test, y_preds)\n",
    "\n",
    "# In matplotlib < 1.5, plt.fill_between does not have a 'step' argument\n",
    "step_kwargs = ({'step': 'post'}\n",
    "               if 'step' in signature(plt.fill_between).parameters\n",
    "               else {})\n",
    "plt.step(recall, precision, color='b', alpha=0.2,\n",
    "         where='post')\n",
    "plt.fill_between(recall, precision, alpha=0.2, color='b', **step_kwargs)\n",
    "\n",
    "plt.xlabel('Recall')\n",
    "plt.ylabel('Precision')\n",
    "plt.ylim([0.0, 1.05])\n",
    "plt.xlim([0.0, 1.0])\n",
    "plt.title('2-class Precision-Recall curve: AP={0:0.2f}'.format(\n",
    "          average_precision))"
   ]
  },
  {
   "cell_type": "code",
   "execution_count": null,
   "metadata": {},
   "outputs": [],
   "source": []
  }
 ],
 "metadata": {
  "kernelspec": {
   "display_name": "Python 3",
   "language": "python",
   "name": "python3"
  },
  "language_info": {
   "codemirror_mode": {
    "name": "ipython",
    "version": 3
   },
   "file_extension": ".py",
   "mimetype": "text/x-python",
   "name": "python",
   "nbconvert_exporter": "python",
   "pygments_lexer": "ipython3",
   "version": "3.7.2"
  }
 },
 "nbformat": 4,
 "nbformat_minor": 2
}
